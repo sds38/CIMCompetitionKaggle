{
 "cells": [
  {
   "cell_type": "markdown",
   "metadata": {},
   "source": [
    "# Exploratory Data Analysis - BFRB Detection\n",
    "\n",
    "This notebook explores the Child Mind Institute BFRB Detection competition dataset. We'll examine:\n",
    "\n",
    "1. Subject demographics\n",
    "2. Class distribution\n",
    "3. Time series patterns from different sensors\n",
    "4. Visualizations of ToF data as images\n",
    "5. Missing data patterns"
   ]
  },
  {
   "cell_type": "code",
   "execution_count": null,
   "metadata": {},
   "source": [
    "# Import required libraries\n",
    "import os\n",
    "import zipfile\n",
    "import pandas as pd\n",
    "import numpy as np\n",
    "import matplotlib.pyplot as plt\n",
    "import seaborn as sns\n",
    "import missingno as msno\n",
    "from tqdm.notebook import tqdm\n",
    "import sys\n",
    "\n",
    "# Add the parent directory to path to import our modules\n",
    "sys.path.append('..')\n",
    "from src.preprocessing import SensorDataProcessor\n",
    "\n",
    "# Set plot style\n",
    "plt.style.use('seaborn-v0_8-whitegrid')\n",
    "%matplotlib inline\n",
    "plt.rcParams['figure.figsize'] = (12, 8)"
   ]
  },
  {
   "cell_type": "code",
   "execution_count": null,
   "metadata": {},
   "source": [
    "# Path to the competition data\n",
    "ZIP_PATH = '/Users/shail/Downloads/cmi-detect-behavior-with-sensor-data.zip'\n",
    "\n",
    "# Check if file exists\n",
    "if os.path.exists(ZIP_PATH):\n",
    "    print(f\"Zip file found: {os.path.getsize(ZIP_PATH) / (1024*1024):.2f} MB\")\n",
    "else:\n",
    "    print(\"Zip file not found. Please update the path.\")"
   ]
  },
  {
   "cell_type": "markdown",
   "metadata": {},
   "source": [
    "## 1. Examine Demographics Data\n",
    "\n",
    "Let's first look at the demographics data to understand who the subjects are."
   ]
  },
  {
   "cell_type": "code",
   "execution_count": null,
   "metadata": {},
   "source": [
    "# Initialize the processor\n",
    "processor = SensorDataProcessor(ZIP_PATH)\n",
    "\n",
    "# Load demographics data\n",
    "train_demo, test_demo = processor.load_demographics()\n",
    "\n",
    "print(\"=== Training Demographics ===\\n\")\n",
    "display(train_demo.head())\n",
    "print(f\"\\nShape: {train_demo.shape}\")\n",
    "\n",
    "print(\"\\n=== Test Demographics ===\\n\")\n",
    "display(test_demo.head())\n",
    "print(f\"\\nShape: {test_demo.shape}\")"
   ]
  },
  {
   "cell_type": "code",
   "execution_count": null,
   "metadata": {},
   "source": [
    "# Basic statistics for demographics data\n",
    "train_demo.describe()"
   ]
  },
  {
   "cell_type": "markdown",
   "metadata": {},
   "source": [
    "## 2. Get Sample Data"
   ]
  },
  {
   "cell_type": "code",
   "execution_count": null,
   "metadata": {},
   "source": [
    "# Function to get sample data while being memory efficient\n",
    "def get_sample_data(num_sequences=5):\n",
    "    sequence_ids = processor.get_sequence_ids('train.csv', max_chunks=10)\n",
    "    sample_ids = sequence_ids[:num_sequences]\n",
    "    \n",
    "    sequences = []\n",
    "    for seq_id in tqdm(sample_ids):\n",
    "        seq_df = processor.extract_sequence('train.csv', seq_id)\n",
    "        sequences.append(seq_df)\n",
    "    \n",
    "    # Extract metadata for all sequences for class distribution analysis\n",
    "    with zipfile.ZipFile(ZIP_PATH, 'r') as zip_ref:\n",
    "        with zip_ref.open('train.csv') as f:\n",
    "            # Read just the necessary columns\n",
    "            metadata = pd.read_csv(\n",
    "                f, \n",
    "                usecols=['sequence_id', 'gesture', 'sequence_type', 'behavior'],\n",
    "                chunksize=100000\n",
    "            )\n",
    "            # Extract just one row per sequence\n",
    "            metadata = pd.concat([chunk.drop_duplicates('sequence_id') for chunk in metadata])\n",
    "    \n",
    "    return sequences, metadata\n",
    "\n",
    "# Get sample sequences and metadata\n",
    "sample_sequences, metadata = get_sample_data(num_sequences=5)"
   ]
  },
  {
   "cell_type": "code",
   "execution_count": null,
   "metadata": {},
   "source": [
    "# Display a sample sequence\n",
    "print(f\"Sample sequence information:\")\n",
    "print(f\"Shape: {sample_sequences[0].shape}\")\n",
    "print(f\"Sequence ID: {sample_sequences[0]['sequence_id'].iloc[0]}\")\n",
    "print(f\"Gesture: {sample_sequences[0]['gesture'].iloc[0]}\")\n",
    "print(f\"Sequence type: {sample_sequences[0]['sequence_type'].iloc[0]}\")\n",
    "print(f\"Subject: {sample_sequences[0]['subject'].iloc[0]}\")\n",
    "print(\"\\nFirst few rows:\")\n",
    "display(sample_sequences[0][['sequence_counter', 'behavior', 'acc_x', 'acc_y', 'acc_z']].head())"
   ]
  },
  {
   "cell_type": "markdown",
   "metadata": {},
   "source": [
    "## 3. IMU Data Visualization"
   ]
  },
  {
   "cell_type": "code",
   "execution_count": null,
   "metadata": {},
   "source": [
    "def plot_imu_data(sequence_df, title):\n",
    "    \"\"\"Plot IMU data (accelerometer and rotation)\"\"\"\n",
    "    fig, axs = plt.subplots(2, 1, figsize=(14, 10))\n",
    "    \n",
    "    # Plot accelerometer data\n",
    "    axs[0].plot(sequence_df['sequence_counter'], sequence_df['acc_x'], label='acc_x')\n",
    "    axs[0].plot(sequence_df['sequence_counter'], sequence_df['acc_y'], label='acc_y')\n",
    "    axs[0].plot(sequence_df['sequence_counter'], sequence_df['acc_z'], label='acc_z')\n",
    "    axs[0].set_title(f'Accelerometer Data - {title}')\n",
    "    axs[0].legend()\n",
    "    \n",
    "    # Plot rotation data\n",
    "    axs[1].plot(sequence_df['sequence_counter'], sequence_df['rot_w'], label='rot_w')\n",
    "    axs[1].plot(sequence_df['sequence_counter'], sequence_df['rot_x'], label='rot_x')\n",
    "    axs[1].plot(sequence_df['sequence_counter'], sequence_df['rot_y'], label='rot_y')\n",
    "    axs[1].plot(sequence_df['sequence_counter'], sequence_df['rot_z'], label='rot_z')\n",
    "    axs[1].set_title('Rotation Data')\n",
    "    axs[1].legend()\n",
    "    \n",
    "    plt.tight_layout()\n",
    "    plt.show()"
   ]
  },
  {
   "cell_type": "code",
   "execution_count": null,
   "metadata": {},
   "source": [
    "# Find BFRB and non-BFRB sequences\n",
    "target_sequences = [seq for seq in sample_sequences if seq['sequence_type'].iloc[0] == 'Target']\n",
    "non_target_sequences = [seq for seq in sample_sequences if seq['sequence_type'].iloc[0] == 'Non-Target']\n",
    "\n",
    "# Plot one of each if available\n",
    "if target_sequences:\n",
    "    plot_imu_data(target_sequences[0], f\"BFRB - {target_sequences[0]['gesture'].iloc[0]}\")\n",
    "\n",
    "if non_target_sequences:\n",
    "    plot_imu_data(non_target_sequences[0], f\"Non-BFRB - {non_target_sequences[0]['gesture'].iloc[0]}\")"
   ]
  },
  {
   "cell_type": "markdown",
   "metadata": {},
   "source": [
    "## 4. Thermopile Data Visualization"
   ]
  },
  {
   "cell_type": "code",
   "execution_count": null,
   "metadata": {},
   "source": [
    "def plot_thermopile_data(sequence_df, title):\n",
    "    \"\"\"Plot thermopile sensor data\"\"\"\n",
    "    plt.figure(figsize=(14, 6))\n",
    "    \n",
    "    for i in range(1, 6):\n",
    "        plt.plot(sequence_df['sequence_counter'], sequence_df[f'thm_{i}'], \n",
    "                label=f'Thermopile {i}')\n",
    "    \n",
    "    plt.title(f'Thermopile Data - {title}')\n",
    "    plt.xlabel('Sequence Counter')\n",
    "    plt.ylabel('Temperature (°C)')\n",
    "    plt.legend()\n",
    "    plt.grid(True)\n",
    "    plt.show()"
   ]
  },
  {
   "cell_type": "code",
   "execution_count": null,
   "metadata": {},
   "source": [
    "# Plot thermopile data\n",
    "if target_sequences:\n",
    "    plot_thermopile_data(target_sequences[0], f\"BFRB - {target_sequences[0]['gesture'].iloc[0]}\")"
   ]
  },
  {
   "cell_type": "markdown",
   "metadata": {},
   "source": [
    "## 5. Time-of-Flight Data Visualization"
   ]
  },
  {
   "cell_type": "code",
   "execution_count": null,
   "metadata": {},
   "source": [
    "def visualize_tof_frame(sequence_df, time_step, title):\n",
    "    \"\"\"Visualize all ToF sensors at a specific time step\"\"\"\n",
    "    fig, axs = plt.subplots(1, 5, figsize=(20, 4))\n",
    "    \n",
    "    row = sequence_df.iloc[time_step]\n",
    "    \n",
    "    for sensor in range(1, 6):\n",
    "        tof_data = np.zeros((8, 8))\n",
    "        for i in range(64):\n",
    "            col_name = f'tof_{sensor}_v{i}'\n",
    "            value = row[col_name]\n",
    "            \n",
    "            # Replace -1 with NaN for better visualization\n",
    "            if value == -1:\n",
    "                value = np.nan\n",
    "                \n",
    "            tof_data[i // 8, i % 8] = value\n",
    "        \n",
    "        # Plot as heatmap\n",
    "        im = axs[sensor-1].imshow(tof_data, cmap='viridis')\n",
    "        axs[sensor-1].set_title(f'ToF Sensor {sensor}')\n",
    "        fig.colorbar(im, ax=axs[sensor-1])\n",
    "    \n",
    "    plt.suptitle(f'{title} - Time step {time_step}')\n",
    "    plt.tight_layout()\n",
    "    plt.show()"
   ]
  },
  {
   "cell_type": "code",
   "execution_count": null,
   "metadata": {},
   "source": [
    "# Visualize ToF data\n",
    "if target_sequences and len(target_sequences[0]) > 10:\n",
    "    visualize_tof_frame(target_sequences[0], 10, f\"BFRB - {target_sequences[0]['gesture'].iloc[0]}\")"
   ]
  },
  {
   "cell_type": "markdown",
   "metadata": {},
   "source": [
    "## 6. Class Distribution Analysis"
   ]
  },
  {
   "cell_type": "code",
   "execution_count": null,
   "metadata": {},
   "source": [
    "# Analyze gesture distribution\n",
    "plt.figure(figsize=(12, 8))\n",
    "gesture_counts = metadata['gesture'].value_counts()\n",
    "sns.barplot(x=gesture_counts.index, y=gesture_counts.values)\n",
    "plt.title('Gesture Distribution')\n",
    "plt.xlabel('Gesture')\n",
    "plt.ylabel('Count')\n",
    "plt.xticks(rotation=90)\n",
    "plt.tight_layout()\n",
    "plt.show()\n",
    "\n",
    "# Target vs Non-target distribution\n",
    "plt.figure(figsize=(8, 6))\n",
    "seq_type_counts = metadata['sequence_type'].value_counts()\n",
    "sns.barplot(x=seq_type_counts.index, y=seq_type_counts.values)\n",
    "plt.title('Target vs Non-target Distribution')\n",
    "plt.xlabel('Sequence Type')\n",
    "plt.ylabel('Count')\n",
    "plt.show()"
   ]
  },
  {
   "cell_type": "markdown",
   "metadata": {},
   "source": [
    "## 7. Missing Data Analysis"
   ]
  },
  {
   "cell_type": "code",
   "execution_count": null,
   "metadata": {},
   "source": [
    "# Check missing data\n",
    "if sample_sequences:\n",
    "    sensor_cols = ['acc_x', 'acc_y', 'acc_z', 'rot_w', 'rot_x', 'rot_y', 'rot_z',\n",
    "                  'thm_1', 'thm_2', 'thm_3', 'thm_4', 'thm_5']\n",
    "    \n",
    "    msno.matrix(sample_sequences[0][sensor_cols])\n",
    "    plt.title(f'Missing Data Pattern')\n",
    "    plt.show()"
   ]
  }
 ],
 "metadata": {
  "kernelspec": {
   "display_name": "Python 3",
   "language": "python",
   "name": "python3"
  },
  "language_info": {
   "codemirror_mode": {
    "name": "ipython",
    "version": 3
   },
   "file_extension": ".py",
   "mimetype": "text/x-python",
   "name": "python",
   "nbconvert_exporter": "python",
   "pygments_lexer": "ipython3",
   "version": "3.7.3"
  }
 },
 "nbformat": 4,
 "nbformat_minor": 2
}
